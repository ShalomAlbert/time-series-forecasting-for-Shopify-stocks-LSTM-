{
 "cells": [
  {
   "cell_type": "code",
   "execution_count": 30,
   "id": "5c62c997",
   "metadata": {},
   "outputs": [],
   "source": [
    "import numpy as np\n",
    "import matplotlib.pyplot as plt\n",
    "from pandas import read_csv\n",
    "import math\n",
    "\n",
    "from keras.models import Sequential\n",
    "from keras.layers import Dense, SimpleRNN, LSTM\n",
    "from sklearn.preprocessing import MinMaxScaler\n",
    "from sklearn.metrics import mean_squared_error"
   ]
  },
  {
   "cell_type": "code",
   "execution_count": 37,
   "id": "c2869123",
   "metadata": {},
   "outputs": [],
   "source": [
    "dataframe = read_csv('C:/Users/PC1/Downloads/archive/Shopify.csv',usecols=[1] )"
   ]
  },
  {
   "cell_type": "code",
   "execution_count": 38,
   "id": "7f9c0124",
   "metadata": {},
   "outputs": [
    {
     "data": {
      "text/plain": [
       "[<matplotlib.lines.Line2D at 0x194f8417910>]"
      ]
     },
     "execution_count": 38,
     "metadata": {},
     "output_type": "execute_result"
    },
    {
     "data": {
      "image/png": "[encoded data removed]",
      "text/plain": [
       "<Figure size 432x288 with 1 Axes>"
      ]
     },
     "metadata": {
      "needs_background": "light"
     },
     "output_type": "display_data"
    }
   ],
   "source": [
    "plt.plot(dataframe)"
   ]
  },
  {
   "cell_type": "code",
   "execution_count": 39,
   "id": "18737967",
   "metadata": {},
   "outputs": [],
   "source": [
    "#Convert pandas dataframe to numpy array\n",
    "dataset = dataframe.values\n",
    "dataset = dataset.astype('float32') #COnvert values to float"
   ]
  },
  {
   "cell_type": "code",
   "execution_count": 24,
   "id": "cec911e6",
   "metadata": {},
   "outputs": [
    {
     "data": {
      "text/html": [
       "<div>\n",
       "<style scoped>\n",
       "    .dataframe tbody tr th:only-of-type {\n",
       "        vertical-align: middle;\n",
       "    }\n",
       "\n",
       "    .dataframe tbody tr th {\n",
       "        vertical-align: top;\n",
       "    }\n",
       "\n",
       "    .dataframe thead th {\n",
       "        text-align: right;\n",
       "    }\n",
       "</style>\n",
       "<table border=\"1\" class=\"dataframe\">\n",
       "  <thead>\n",
       "    <tr style=\"text-align: right;\">\n",
       "      <th></th>\n",
       "      <th>Open</th>\n",
       "      <th>High</th>\n",
       "      <th>Low</th>\n",
       "      <th>Close</th>\n",
       "      <th>Adj Close</th>\n",
       "      <th>Volume</th>\n",
       "    </tr>\n",
       "    <tr>\n",
       "      <th>Date</th>\n",
       "      <th></th>\n",
       "      <th></th>\n",
       "      <th></th>\n",
       "      <th></th>\n",
       "      <th></th>\n",
       "      <th></th>\n",
       "    </tr>\n",
       "  </thead>\n",
       "  <tbody>\n",
       "    <tr>\n",
       "      <th>2015-05-20</th>\n",
       "      <td>17.000000</td>\n",
       "      <td>17.000000</td>\n",
       "      <td>17.000000</td>\n",
       "      <td>17.000000</td>\n",
       "      <td>17.000000</td>\n",
       "      <td>0.0</td>\n",
       "    </tr>\n",
       "    <tr>\n",
       "      <th>2015-05-21</th>\n",
       "      <td>28.000000</td>\n",
       "      <td>28.740000</td>\n",
       "      <td>24.110001</td>\n",
       "      <td>25.680000</td>\n",
       "      <td>25.680000</td>\n",
       "      <td>12303900.0</td>\n",
       "    </tr>\n",
       "    <tr>\n",
       "      <th>2015-05-22</th>\n",
       "      <td>26.070000</td>\n",
       "      <td>31.100000</td>\n",
       "      <td>26.000000</td>\n",
       "      <td>28.309999</td>\n",
       "      <td>28.309999</td>\n",
       "      <td>2841200.0</td>\n",
       "    </tr>\n",
       "    <tr>\n",
       "      <th>2015-05-23</th>\n",
       "      <td>NaN</td>\n",
       "      <td>NaN</td>\n",
       "      <td>NaN</td>\n",
       "      <td>NaN</td>\n",
       "      <td>NaN</td>\n",
       "      <td>NaN</td>\n",
       "    </tr>\n",
       "    <tr>\n",
       "      <th>2015-05-24</th>\n",
       "      <td>NaN</td>\n",
       "      <td>NaN</td>\n",
       "      <td>NaN</td>\n",
       "      <td>NaN</td>\n",
       "      <td>NaN</td>\n",
       "      <td>NaN</td>\n",
       "    </tr>\n",
       "    <tr>\n",
       "      <th>...</th>\n",
       "      <td>...</td>\n",
       "      <td>...</td>\n",
       "      <td>...</td>\n",
       "      <td>...</td>\n",
       "      <td>...</td>\n",
       "      <td>...</td>\n",
       "    </tr>\n",
       "    <tr>\n",
       "      <th>2022-05-19</th>\n",
       "      <td>362.160004</td>\n",
       "      <td>413.700012</td>\n",
       "      <td>360.500000</td>\n",
       "      <td>391.329987</td>\n",
       "      <td>391.329987</td>\n",
       "      <td>7601800.0</td>\n",
       "    </tr>\n",
       "    <tr>\n",
       "      <th>2022-05-20</th>\n",
       "      <td>400.690002</td>\n",
       "      <td>403.989990</td>\n",
       "      <td>340.010010</td>\n",
       "      <td>363.850006</td>\n",
       "      <td>363.850006</td>\n",
       "      <td>5660700.0</td>\n",
       "    </tr>\n",
       "    <tr>\n",
       "      <th>2022-05-21</th>\n",
       "      <td>NaN</td>\n",
       "      <td>NaN</td>\n",
       "      <td>NaN</td>\n",
       "      <td>NaN</td>\n",
       "      <td>NaN</td>\n",
       "      <td>NaN</td>\n",
       "    </tr>\n",
       "    <tr>\n",
       "      <th>2022-05-22</th>\n",
       "      <td>NaN</td>\n",
       "      <td>NaN</td>\n",
       "      <td>NaN</td>\n",
       "      <td>NaN</td>\n",
       "      <td>NaN</td>\n",
       "      <td>NaN</td>\n",
       "    </tr>\n",
       "    <tr>\n",
       "      <th>2022-05-23</th>\n",
       "      <td>362.010010</td>\n",
       "      <td>368.790009</td>\n",
       "      <td>342.000092</td>\n",
       "      <td>368.489990</td>\n",
       "      <td>368.489990</td>\n",
       "      <td>3488055.0</td>\n",
       "    </tr>\n",
       "  </tbody>\n",
       "</table>\n",
       "<p>2561 rows × 6 columns</p>\n",
       "</div>"
      ],
      "text/plain": [
       "                  Open        High         Low       Close   Adj Close  \\\n",
       "Date                                                                     \n",
       "2015-05-20   17.000000   17.000000   17.000000   17.000000   17.000000   \n",
       "2015-05-21   28.000000   28.740000   24.110001   25.680000   25.680000   \n",
       "2015-05-22   26.070000   31.100000   26.000000   28.309999   28.309999   \n",
       "2015-05-23         NaN         NaN         NaN         NaN         NaN   \n",
       "2015-05-24         NaN         NaN         NaN         NaN         NaN   \n",
       "...                ...         ...         ...         ...         ...   \n",
       "2022-05-19  362.160004  413.700012  360.500000  391.329987  391.329987   \n",
       "2022-05-20  400.690002  403.989990  340.010010  363.850006  363.850006   \n",
       "2022-05-21         NaN         NaN         NaN         NaN         NaN   \n",
       "2022-05-22         NaN         NaN         NaN         NaN         NaN   \n",
       "2022-05-23  362.010010  368.790009  342.000092  368.489990  368.489990   \n",
       "\n",
       "                Volume  \n",
       "Date                    \n",
       "2015-05-20         0.0  \n",
       "2015-05-21  12303900.0  \n",
       "2015-05-22   2841200.0  \n",
       "2015-05-23         NaN  \n",
       "2015-05-24         NaN  \n",
       "...                ...  \n",
       "2022-05-19   7601800.0  \n",
       "2022-05-20   5660700.0  \n",
       "2022-05-21         NaN  \n",
       "2022-05-22         NaN  \n",
       "2022-05-23   3488055.0  \n",
       "\n",
       "[2561 rows x 6 columns]"
      ]
     },
     "execution_count": 24,
     "metadata": {},
     "output_type": "execute_result"
    }
   ],
   "source": []
  },
  {
   "cell_type": "code",
   "execution_count": 40,
   "id": "678fba67",
   "metadata": {},
   "outputs": [],
   "source": [
    "# Normalization is optional but recommended for neural network as certain \n",
    "# activation functions are sensitive to magnitude of numbers. \n",
    "# normalize the dataset\n",
    "scaler = MinMaxScaler(feature_range=(0, 1)) #Also try QuantileTransformer\n",
    "dataset = scaler.fit_transform(dataset)"
   ]
  },
  {
   "cell_type": "code",
   "execution_count": 41,
   "id": "32e09b00",
   "metadata": {},
   "outputs": [],
   "source": [
    "#We cannot use random way of splitting dataset into train and test as\n",
    "#the sequence of events is important for time series.\n",
    "#So let us take first 60% values for train and the remaining 1/3 for testing\n",
    "# split into train and test sets\n",
    "train_size = int(len(dataset) * 0.66)\n",
    "test_size = len(dataset) - train_size\n",
    "train, test = dataset[0:train_size,:], dataset[train_size:len(dataset),:]"
   ]
  },
  {
   "cell_type": "code",
   "execution_count": 43,
   "id": "9f8a7496",
   "metadata": {},
   "outputs": [
    {
     "name": "stdout",
     "output_type": "stream",
     "text": [
      "Total number of samples in the original training data =  1165\n",
      "Total number of samples in the generated data =  1155\n"
     ]
    }
   ],
   "source": [
    "#Use TimeseriesGenerator to organize training data into the right format\n",
    "#We can use a generator instead......\n",
    "from keras.preprocessing.sequence import TimeseriesGenerator # Generates batches for sequence data\n",
    "seq_size = length =  10 \n",
    "batch_size = 1\n",
    "train_generator = TimeseriesGenerator(train,train,length=length,batch_size=batch_size)\n",
    "print(\"Total number of samples in the original training data = \", len(train)) # 95\n",
    "print(\"Total number of samples in the generated data = \", len(train_generator)) # 55\n",
    "#With length 40 it generated 55 samples, each of length 40 (by using data of length 95)\n"
   ]
  },
  {
   "cell_type": "code",
   "execution_count": 44,
   "id": "2a415cd6",
   "metadata": {},
   "outputs": [],
   "source": [
    "# print a couple of samples... \n",
    "x, y = train_generator[0]"
   ]
  },
  {
   "cell_type": "code",
   "execution_count": 45,
   "id": "b414cbff",
   "metadata": {},
   "outputs": [],
   "source": [
    "#Also generate validation data\n",
    "validation_generator = TimeseriesGenerator(test, test, length=length ,batch_size=batch_size)"
   ]
  },
  {
   "cell_type": "code",
   "execution_count": 46,
   "id": "095f4fff",
   "metadata": {},
   "outputs": [],
   "source": [
    "#Input dimensions are... (N x seq_size)\n",
    "num_features = 1 #Univariate example"
   ]
  },
  {
   "cell_type": "code",
   "execution_count": 47,
   "id": "8a31764b",
   "metadata": {},
   "outputs": [
    {
     "name": "stdout",
     "output_type": "stream",
     "text": [
      "Model: \"sequential\"\n",
      "_________________________________________________________________\n",
      "Layer (type)                 Output Shape              Param #   \n",
      "=================================================================\n",
      "lstm (LSTM)                  (None, 10, 50)            10400     \n",
      "_________________________________________________________________\n",
      "lstm_1 (LSTM)                (None, 50)                20200     \n",
      "_________________________________________________________________\n",
      "dense (Dense)                (None, 1)                 51        \n",
      "=================================================================\n",
      "Total params: 30,651\n",
      "Trainable params: 30,651\n",
      "Non-trainable params: 0\n",
      "_________________________________________________________________\n",
      "Train...\n"
     ]
    }
   ],
   "source": [
    "model = Sequential()\n",
    "model.add(LSTM(50, activation='relu', return_sequences=True, input_shape=(length, num_features)))\n",
    "model.add(LSTM(50, activation='relu'))\n",
    "#model.add(Dense(32))\n",
    "model.add(Dense(1))\n",
    "model.compile(optimizer='adam', loss='mean_squared_error')\n",
    "\n",
    "model.summary()\n",
    "print('Train...')"
   ]
  },
  {
   "cell_type": "code",
   "execution_count": 48,
   "id": "caf2218f",
   "metadata": {},
   "outputs": [
    {
     "name": "stderr",
     "output_type": "stream",
     "text": [
      "C:\\Users\\PC1\\anaconda3\\envs\\tensorflow\\lib\\site-packages\\keras\\engine\\training.py:1972: UserWarning: `Model.fit_generator` is deprecated and will be removed in a future version. Please use `Model.fit`, which supports generators.\n",
      "  warnings.warn('`Model.fit_generator` is deprecated and '\n"
     ]
    },
    {
     "name": "stdout",
     "output_type": "stream",
     "text": [
      "Epoch 1/100\n",
      "1155/1155 - 12s - loss: 2.5275e-04 - val_loss: 0.0039\n",
      "Epoch 2/100\n",
      "1155/1155 - 8s - loss: 7.1705e-05 - val_loss: 0.0054\n",
      "Epoch 3/100\n",
      "1155/1155 - 8s - loss: 6.9462e-05 - val_loss: 0.0022\n",
      "Epoch 4/100\n",
      "1155/1155 - 8s - loss: 5.8623e-05 - val_loss: 0.0046\n",
      "Epoch 5/100\n",
      "1155/1155 - 8s - loss: 5.1190e-05 - val_loss: 0.0024\n",
      "Epoch 6/100\n",
      "1155/1155 - 8s - loss: 5.5124e-05 - val_loss: 0.0158\n",
      "Epoch 7/100\n",
      "1155/1155 - 8s - loss: 3.9265e-05 - val_loss: 0.0013\n",
      "Epoch 8/100\n",
      "1155/1155 - 7s - loss: 4.0007e-05 - val_loss: 0.0015\n",
      "Epoch 9/100\n",
      "1155/1155 - 8s - loss: 4.0630e-05 - val_loss: 0.0024\n",
      "Epoch 10/100\n",
      "1155/1155 - 8s - loss: 3.8267e-05 - val_loss: 0.0032\n",
      "Epoch 11/100\n",
      "1155/1155 - 8s - loss: 3.3743e-05 - val_loss: 0.0059\n",
      "Epoch 12/100\n",
      "1155/1155 - 8s - loss: 3.2717e-05 - val_loss: 0.0062\n",
      "Epoch 13/100\n",
      "1155/1155 - 8s - loss: 2.8280e-05 - val_loss: 0.0031\n",
      "Epoch 14/100\n",
      "1155/1155 - 8s - loss: 2.9222e-05 - val_loss: 0.0076\n",
      "Epoch 15/100\n",
      "1155/1155 - 8s - loss: 2.4096e-05 - val_loss: 0.0067\n",
      "Epoch 16/100\n",
      "1155/1155 - 8s - loss: 2.6858e-05 - val_loss: 0.0161\n",
      "Epoch 17/100\n",
      "1155/1155 - 8s - loss: 2.4594e-05 - val_loss: 0.0154\n",
      "Epoch 18/100\n",
      "1155/1155 - 7s - loss: 2.4715e-05 - val_loss: 0.0235\n",
      "Epoch 19/100\n",
      "1155/1155 - 8s - loss: 2.2165e-05 - val_loss: 0.0163\n",
      "Epoch 20/100\n",
      "1155/1155 - 8s - loss: 2.3073e-05 - val_loss: 0.0303\n",
      "Epoch 21/100\n",
      "1155/1155 - 8s - loss: 2.1088e-05 - val_loss: 0.0191\n",
      "Epoch 22/100\n",
      "1155/1155 - 8s - loss: 2.0869e-05 - val_loss: 0.0241\n",
      "Epoch 23/100\n",
      "1155/1155 - 8s - loss: 2.1745e-05 - val_loss: 0.0313\n",
      "Epoch 24/100\n",
      "1155/1155 - 7s - loss: 1.8488e-05 - val_loss: 0.0304\n",
      "Epoch 25/100\n",
      "1155/1155 - 8s - loss: 2.1643e-05 - val_loss: 0.0480\n",
      "Epoch 26/100\n",
      "1155/1155 - 7s - loss: 2.1152e-05 - val_loss: 0.0195\n",
      "Epoch 27/100\n",
      "1155/1155 - 8s - loss: 2.0351e-05 - val_loss: 0.0278\n",
      "Epoch 28/100\n",
      "1155/1155 - 7s - loss: 1.7106e-05 - val_loss: 0.0297\n",
      "Epoch 29/100\n",
      "1155/1155 - 8s - loss: 1.8809e-05 - val_loss: 0.0391\n",
      "Epoch 30/100\n",
      "1155/1155 - 7s - loss: 1.9072e-05 - val_loss: 0.0491\n",
      "Epoch 31/100\n",
      "1155/1155 - 8s - loss: 1.7805e-05 - val_loss: 0.0415\n",
      "Epoch 32/100\n",
      "1155/1155 - 8s - loss: 2.0857e-05 - val_loss: 0.0411\n",
      "Epoch 33/100\n",
      "1155/1155 - 8s - loss: 1.9921e-05 - val_loss: 0.0553\n",
      "Epoch 34/100\n",
      "1155/1155 - 8s - loss: 2.0677e-05 - val_loss: 0.0369\n",
      "Epoch 35/100\n",
      "1155/1155 - 7s - loss: 1.9099e-05 - val_loss: 0.0398\n",
      "Epoch 36/100\n",
      "1155/1155 - 8s - loss: 1.6885e-05 - val_loss: 0.0556\n",
      "Epoch 37/100\n",
      "1155/1155 - 7s - loss: 2.0242e-05 - val_loss: 0.0392\n",
      "Epoch 38/100\n",
      "1155/1155 - 8s - loss: 1.8108e-05 - val_loss: 0.0469\n",
      "Epoch 39/100\n",
      "1155/1155 - 8s - loss: 1.8041e-05 - val_loss: 0.0724\n",
      "Epoch 40/100\n",
      "1155/1155 - 8s - loss: 1.8197e-05 - val_loss: 0.0598\n",
      "Epoch 41/100\n",
      "1155/1155 - 8s - loss: 1.8331e-05 - val_loss: 0.0412\n",
      "Epoch 42/100\n",
      "1155/1155 - 8s - loss: 1.9133e-05 - val_loss: 0.0664\n",
      "Epoch 43/100\n",
      "1155/1155 - 8s - loss: 1.9055e-05 - val_loss: 0.0663\n",
      "Epoch 44/100\n",
      "1155/1155 - 8s - loss: 1.7775e-05 - val_loss: 0.1337\n",
      "Epoch 45/100\n",
      "1155/1155 - 8s - loss: 1.9217e-05 - val_loss: 0.0864\n",
      "Epoch 46/100\n",
      "1155/1155 - 8s - loss: 1.9500e-05 - val_loss: 0.0950\n",
      "Epoch 47/100\n",
      "1155/1155 - 8s - loss: 1.8165e-05 - val_loss: 0.1370\n",
      "Epoch 48/100\n",
      "1155/1155 - 8s - loss: 1.6667e-05 - val_loss: 0.1433\n",
      "Epoch 49/100\n",
      "1155/1155 - 8s - loss: 1.7709e-05 - val_loss: 0.0774\n",
      "Epoch 50/100\n",
      "1155/1155 - 8s - loss: 1.7382e-05 - val_loss: 0.1043\n",
      "Epoch 51/100\n",
      "1155/1155 - 8s - loss: 1.7501e-05 - val_loss: 0.0838\n",
      "Epoch 52/100\n",
      "1155/1155 - 8s - loss: 1.5654e-05 - val_loss: 0.0888\n",
      "Epoch 53/100\n",
      "1155/1155 - 8s - loss: 1.7916e-05 - val_loss: 0.0677\n",
      "Epoch 54/100\n",
      "1155/1155 - 8s - loss: 1.6039e-05 - val_loss: 0.1372\n",
      "Epoch 55/100\n",
      "1155/1155 - 8s - loss: 1.6800e-05 - val_loss: 0.1478\n",
      "Epoch 56/100\n",
      "1155/1155 - 8s - loss: 1.6229e-05 - val_loss: 0.1155\n",
      "Epoch 57/100\n",
      "1155/1155 - 8s - loss: 1.6086e-05 - val_loss: 0.1141\n",
      "Epoch 58/100\n",
      "1155/1155 - 8s - loss: 1.8237e-05 - val_loss: 0.1181\n",
      "Epoch 59/100\n",
      "1155/1155 - 8s - loss: 1.5869e-05 - val_loss: 0.1404\n",
      "Epoch 60/100\n",
      "1155/1155 - 8s - loss: 1.7737e-05 - val_loss: 0.0978\n",
      "Epoch 61/100\n",
      "1155/1155 - 8s - loss: 1.4924e-05 - val_loss: 0.1006\n",
      "Epoch 62/100\n",
      "1155/1155 - 8s - loss: 1.4052e-05 - val_loss: 0.1438\n",
      "Epoch 63/100\n",
      "1155/1155 - 8s - loss: 1.4824e-05 - val_loss: 0.1742\n",
      "Epoch 64/100\n",
      "1155/1155 - 8s - loss: 1.7086e-05 - val_loss: 0.1088\n",
      "Epoch 65/100\n",
      "1155/1155 - 8s - loss: 1.7358e-05 - val_loss: 0.1356\n",
      "Epoch 66/100\n",
      "1155/1155 - 8s - loss: 1.8506e-05 - val_loss: 0.0782\n",
      "Epoch 67/100\n",
      "1155/1155 - 8s - loss: 1.6785e-05 - val_loss: 0.0960\n",
      "Epoch 68/100\n",
      "1155/1155 - 8s - loss: 1.5938e-05 - val_loss: 0.1222\n",
      "Epoch 69/100\n",
      "1155/1155 - 8s - loss: 1.5889e-05 - val_loss: 0.1100\n",
      "Epoch 70/100\n",
      "1155/1155 - 8s - loss: 1.4705e-05 - val_loss: 0.0766\n",
      "Epoch 71/100\n",
      "1155/1155 - 7s - loss: 1.8195e-05 - val_loss: 0.1073\n",
      "Epoch 72/100\n",
      "1155/1155 - 8s - loss: 1.6460e-05 - val_loss: 0.1080\n",
      "Epoch 73/100\n",
      "1155/1155 - 7s - loss: 1.5196e-05 - val_loss: 0.1271\n",
      "Epoch 74/100\n",
      "1155/1155 - 8s - loss: 1.4690e-05 - val_loss: 0.1073\n",
      "Epoch 75/100\n",
      "1155/1155 - 8s - loss: 1.5049e-05 - val_loss: 0.0903\n",
      "Epoch 76/100\n",
      "1155/1155 - 8s - loss: 1.5674e-05 - val_loss: 0.0713\n",
      "Epoch 77/100\n",
      "1155/1155 - 8s - loss: 1.5487e-05 - val_loss: 0.0824\n",
      "Epoch 78/100\n",
      "1155/1155 - 8s - loss: 1.5824e-05 - val_loss: 0.0655\n",
      "Epoch 79/100\n",
      "1155/1155 - 8s - loss: 1.4210e-05 - val_loss: 0.0606\n",
      "Epoch 80/100\n",
      "1155/1155 - 8s - loss: 1.5590e-05 - val_loss: 0.0668\n",
      "Epoch 81/100\n",
      "1155/1155 - 8s - loss: 1.5908e-05 - val_loss: 0.0653\n",
      "Epoch 82/100\n",
      "1155/1155 - 7s - loss: 1.4336e-05 - val_loss: 0.0741\n",
      "Epoch 83/100\n",
      "1155/1155 - 8s - loss: 1.4826e-05 - val_loss: 0.0524\n",
      "Epoch 84/100\n",
      "1155/1155 - 7s - loss: 1.3979e-05 - val_loss: 0.0495\n",
      "Epoch 85/100\n",
      "1155/1155 - 8s - loss: 1.6048e-05 - val_loss: 0.0661\n",
      "Epoch 86/100\n",
      "1155/1155 - 8s - loss: 1.6483e-05 - val_loss: 0.1282\n",
      "Epoch 87/100\n",
      "1155/1155 - 8s - loss: 1.3875e-05 - val_loss: 0.0708\n",
      "Epoch 88/100\n",
      "1155/1155 - 8s - loss: 1.5523e-05 - val_loss: 0.0784\n",
      "Epoch 89/100\n",
      "1155/1155 - 8s - loss: 1.3979e-05 - val_loss: 0.0792\n",
      "Epoch 90/100\n",
      "1155/1155 - 8s - loss: 1.3857e-05 - val_loss: 0.0680\n",
      "Epoch 91/100\n",
      "1155/1155 - 8s - loss: 1.5300e-05 - val_loss: 0.0875\n",
      "Epoch 92/100\n",
      "1155/1155 - 8s - loss: 1.4577e-05 - val_loss: 0.0861\n",
      "Epoch 93/100\n",
      "1155/1155 - 8s - loss: 1.3295e-05 - val_loss: 0.0801\n",
      "Epoch 94/100\n",
      "1155/1155 - 8s - loss: 1.5160e-05 - val_loss: 0.0773\n",
      "Epoch 95/100\n",
      "1155/1155 - 8s - loss: 1.5308e-05 - val_loss: 0.0598\n",
      "Epoch 96/100\n",
      "1155/1155 - 8s - loss: 1.4371e-05 - val_loss: 0.1092\n",
      "Epoch 97/100\n",
      "1155/1155 - 8s - loss: 1.3375e-05 - val_loss: 0.0643\n",
      "Epoch 98/100\n",
      "1155/1155 - 8s - loss: 1.5064e-05 - val_loss: 0.0865\n",
      "Epoch 99/100\n",
      "1155/1155 - 8s - loss: 1.5556e-05 - val_loss: 0.0872\n",
      "Epoch 100/100\n",
      "1155/1155 - 8s - loss: 1.4386e-05 - val_loss: 0.0625\n"
     ]
    },
    {
     "data": {
      "text/plain": [
       "<keras.callbacks.History at 0x194f888b6a0>"
      ]
     },
     "execution_count": 48,
     "metadata": {},
     "output_type": "execute_result"
    }
   ],
   "source": [
    "model.fit_generator(generator=train_generator, verbose=2, epochs=100, validation_data=validation_generator)\n"
   ]
  },
  {
   "cell_type": "code",
   "execution_count": 50,
   "id": "a2490545",
   "metadata": {},
   "outputs": [],
   "source": [
    "trainPredict = model.predict(train_generator)\n",
    "testPredict = model.predict(validation_generator)\n",
    "\n",
    "trainPredict = scaler.inverse_transform(trainPredict)\n",
    "trainY_inverse = scaler.inverse_transform(train)\n",
    "testPredict = scaler.inverse_transform(testPredict)\n",
    "testY_inverse = scaler.inverse_transform(test)"
   ]
  },
  {
   "cell_type": "code",
   "execution_count": 51,
   "id": "ca170577",
   "metadata": {},
   "outputs": [
    {
     "name": "stdout",
     "output_type": "stream",
     "text": [
      "Train Score: 5.46 RMSE\n",
      "Test Score: 425.32 RMSE\n"
     ]
    }
   ],
   "source": [
    "# calculate root mean squared error\n",
    "trainScore = math.sqrt(mean_squared_error(trainY_inverse[length:], trainPredict[:,0]))\n",
    "print('Train Score: %.2f RMSE' % (trainScore))\n",
    "testScore = math.sqrt(mean_squared_error(testY_inverse[length:], testPredict[:,0]))\n",
    "print('Test Score: %.2f RMSE' % (testScore))\n"
   ]
  },
  {
   "cell_type": "code",
   "execution_count": 52,
   "id": "e4bae366",
   "metadata": {},
   "outputs": [],
   "source": [
    "# shift train predictions for plotting\n",
    "#we must shift the predictions so that they align on the x-axis with the original dataset. \n",
    "trainPredictPlot = np.empty_like(dataset)\n",
    "trainPredictPlot[:, :] = np.nan\n",
    "trainPredictPlot[length:len(trainPredict)+length, :] = trainPredict"
   ]
  },
  {
   "cell_type": "code",
   "execution_count": 53,
   "id": "64836541",
   "metadata": {},
   "outputs": [],
   "source": [
    "# shift test predictions for plotting\n",
    "testPredictPlot = np.empty_like(dataset)\n",
    "testPredictPlot[:, :] = np.nan\n",
    "#testPredictPlot[len(trainPredict)+(seq_size*2)-1:len(dataset)-1, :] = testPredict\n",
    "testPredictPlot[len(train)+(length)-1:len(dataset)-1, :] = testPredict"
   ]
  },
  {
   "cell_type": "code",
   "execution_count": 54,
   "id": "98b26bd4",
   "metadata": {},
   "outputs": [
    {
     "data": {
      "image/png": "[encoded data removed]",
      "text/plain": [
       "<Figure size 432x288 with 1 Axes>"
      ]
     },
     "metadata": {
      "needs_background": "light"
     },
     "output_type": "display_data"
    }
   ],
   "source": [
    "# plot baseline and predictions\n",
    "plt.plot(scaler.inverse_transform(dataset))\n",
    "plt.plot(trainPredictPlot)\n",
    "plt.plot(testPredictPlot)\n",
    "plt.show()"
   ]
  },
  {
   "cell_type": "code",
   "execution_count": null,
   "id": "6ed89627",
   "metadata": {},
   "outputs": [],
   "source": []
  }
 ],
 "metadata": {
  "kernelspec": {
   "display_name": "Python 3 (ipykernel)",
   "language": "python",
   "name": "python3"
  },
  "language_info": {
   "codemirror_mode": {
    "name": "ipython",
    "version": 3
   },
   "file_extension": ".py",
   "mimetype": "text/x-python",
   "name": "python",
   "nbconvert_exporter": "python",
   "pygments_lexer": "ipython3",
   "version": "3.7.13"
  }
 },
 "nbformat": 4,
 "nbformat_minor": 5
}
